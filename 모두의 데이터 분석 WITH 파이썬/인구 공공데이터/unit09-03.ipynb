{
 "cells": [
  {
   "cell_type": "code",
   "execution_count": 1,
   "metadata": {},
   "outputs": [
    {
     "name": "stdout",
     "output_type": "stream",
     "text": [
      "찾고 싶은 지역의 이름을 알려주세요 : 제주특별자치도\n",
      "[335813, 331524]\n"
     ]
    }
   ],
   "source": [
    "# 남자가 여자보다 많네?\n",
    "import csv\n",
    "f = open('gender.csv')\n",
    "data = csv.reader(f)\n",
    "\n",
    "size = []\n",
    "\n",
    "name = input('찾고 싶은 지역의 이름을 알려주세요 : ')\n",
    "\n",
    "for row in data :\n",
    "    if name in row[0] :\n",
    "        m = 0\n",
    "        f = 0\n",
    "        for i in range(101) :\n",
    "            m += int(row[i+3])\n",
    "            f += int(row[i+106])\n",
    "        break\n",
    "size.append(m)\n",
    "size.append(f)\n",
    "\n",
    "print(size)"
   ]
  },
  {
   "cell_type": "code",
   "execution_count": 6,
   "metadata": {},
   "outputs": [
    {
     "name": "stdout",
     "output_type": "stream",
     "text": [
      "찾고 싶은 지역의 이름을 알려주세요 : 제주특별자치도\n"
     ]
    },
    {
     "data": {
      "image/png": "[encoded data removed]",
      "text/plain": [
       "<Figure size 432x288 with 1 Axes>"
      ]
     },
     "metadata": {},
     "output_type": "display_data"
    }
   ],
   "source": [
    "# 치열한 오류의 흔적 \n",
    "# 알게 된 것 1. 한 글자라도 틀리면 오류! 2. 정확한 위치보다는 위로 올라가면서 찾아봐 이런 느낌!\n",
    "import csv\n",
    "f = open('gender.csv')\n",
    "data = csv.reader(f)\n",
    "\n",
    "size = []\n",
    "\n",
    "name = input('찾고 싶은 지역의 이름을 알려주세요 : ')\n",
    "\n",
    "for row in data :\n",
    "    if name in row[0] :\n",
    "        m = 0\n",
    "        f = 0\n",
    "        for i in range(101) :\n",
    "            m += int(row[i+3])\n",
    "            f += int(row[i+106])\n",
    "        break\n",
    "size.append(m)\n",
    "size.append(f)\n",
    "\n",
    "import matplotlib.pyplot as plt\n",
    "\n",
    "plt.rc('font', family = 'Malgun Gothic')\n",
    "color = ['crimson', 'darkcyan']\n",
    "#plt.axis('equal')\n",
    "plt.axis('equal')\n",
    "plt.pie(size, labels = ['남','여'], autopct ='%.1f%%', colors = color, startangle =90)\n",
    "#plt.pie(size, labels=['남','여'], autopct= '%.1f%%',colors = color)\n",
    "plt.title(name +' 지역의 남녀 성별 비율')\n",
    "plt.show()\n"
   ]
  },
  {
   "cell_type": "code",
   "execution_count": null,
   "metadata": {},
   "outputs": [],
   "source": []
  }
 ],
 "metadata": {
  "kernelspec": {
   "display_name": "Python 3",
   "language": "python",
   "name": "python3"
  }
 },
 "nbformat": 4,
 "nbformat_minor": 4
}
