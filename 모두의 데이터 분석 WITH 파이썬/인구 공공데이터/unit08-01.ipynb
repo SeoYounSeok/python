{
 "cells": [
  {
   "cell_type": "code",
   "execution_count": null,
   "metadata": {},
   "outputs": [],
   "source": [
    "import csv\n",
    "\n",
    "f = open('gender.csv')\n",
    "data = csv.reader(f)\n",
    "\n",
    "m = []\n",
    "f = []\n",
    "name = input('찾고 싶은 지역의 이름을 알려주세요 : ')\n",
    "\n",
    "for row in data:\n",
    "    if name in row[0]:\n",
    "        for i in row[3:104] :\n",
    "            m.append(int(i))\n",
    "        for i in row[106:]:\n",
    "            f.append(int(i))\n",
    "\n",
    "            \n",
    "import matplotlib.pyplot as plt\n",
    "plt.style.use('ggplot')\n",
    "plt.figure(figsize=(10,5), dpi= 300)\n",
    "plt.rcParams['axes.unicode_minus'] = False\n",
    "plt.title(name + ' 지역의 남녀 성별 인구 분포')\n",
    "plt.barh(range(101), m , label ='남성')\n",
    "plt.barh(range(101), f , label ='여성')\n",
    "plt.legend()\n",
    "plt.show()"
   ]
  },
  {
   "cell_type": "code",
   "execution_count": null,
   "metadata": {},
   "outputs": [],
   "source": [
    "# csv 파일에서 제대로 입력한 값이 아니면 오류가 난다.\n",
    "# 한 마디로 오타가 아니였어...\n",
    "import csv\n",
    "\n",
    "f = open('gender.csv')\n",
    "data = csv.reader(f)\n",
    "next(data)\n",
    "m = []\n",
    "f = []\n",
    "name = input('찾고 싶은 지역의 이름을 알려주세요 : ')\n",
    "\n",
    "for row in data:\n",
    "    if name in row[0] :\n",
    "        for i in row[3:104] :\n",
    "            m.append(float(i))\n",
    "        for i in row[106:] :\n",
    "            f.append(float(i))\n",
    "\n",
    "            \n",
    "import matplotlib.pyplot as plt\n",
    "plt.style.use('ggplot')\n",
    "plt.figure(figsize=(10,5), dpi= 300)\n",
    "plt.rcParams['axes.unicode_minus'] = False\n",
    "plt.title(name + ' 지역의 남녀 성별 인구 분포')\n",
    "plt.barh(range(101), m , label ='남성')\n",
    "plt.barh(range(101), f , label ='여성')\n",
    "plt.legend()\n",
    "plt.show()"
   ]
  },
  {
   "cell_type": "code",
   "execution_count": null,
   "metadata": {},
   "outputs": [],
   "source": []
  }
 ],
 "metadata": {
  "kernelspec": {
   "display_name": "Python 3",
   "language": "python",
   "name": "python3"
  },
  "language_info": {
   "codemirror_mode": {
    "name": "ipython",
    "version": 3
   },
   "file_extension": ".py",
   "mimetype": "text/x-python",
   "name": "python",
   "nbconvert_exporter": "python",
   "pygments_lexer": "ipython3",
   "version": "3.7.6"
  }
 },
 "nbformat": 4,
 "nbformat_minor": 4
}
